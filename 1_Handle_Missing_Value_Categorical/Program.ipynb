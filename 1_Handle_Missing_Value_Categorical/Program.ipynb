{
 "cells": [
  {
   "cell_type": "code",
   "execution_count": 5,
   "metadata": {},
   "outputs": [
    {
     "name": "stdout",
     "output_type": "stream",
     "text": [
      "2\n"
     ]
    }
   ],
   "source": [
    "def count_numbers(k, n, flag) :\n",
    "\n",
    "    if (n == 1) :\n",
    "\n",
    "# If 0 wasn't chosen previously\n",
    "        if (flag) :\n",
    "            return (k - 1)\n",
    "        else :\n",
    "            return 1\n",
    "\n",
    "\n",
    "    if (flag) :\n",
    "        return (k - 1) * (count_numbers(k, n - 1, 0) +\n",
    "                        count_numbers(k, n - 1, 1))\n",
    "    else :\n",
    "        return count_numbers(k, n - 1, 1)\n",
    "\n",
    "# Driver code\n",
    "n = 1\n",
    "k = 3\n",
    "print(count_numbers(k, n, True))\n"
   ]
  },
  {
   "cell_type": "code",
   "execution_count": null,
   "metadata": {},
   "outputs": [],
   "source": []
  }
 ],
 "metadata": {
  "kernelspec": {
   "display_name": "Python 3",
   "language": "python",
   "name": "python3"
  },
  "language_info": {
   "codemirror_mode": {
    "name": "ipython",
    "version": 3
   },
   "file_extension": ".py",
   "mimetype": "text/x-python",
   "name": "python",
   "nbconvert_exporter": "python",
   "pygments_lexer": "ipython3",
   "version": "3.8.3"
  }
 },
 "nbformat": 4,
 "nbformat_minor": 4
}
