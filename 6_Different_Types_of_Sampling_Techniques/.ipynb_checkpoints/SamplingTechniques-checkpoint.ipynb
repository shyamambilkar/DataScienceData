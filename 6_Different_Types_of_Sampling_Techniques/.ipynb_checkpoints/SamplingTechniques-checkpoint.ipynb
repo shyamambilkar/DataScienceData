{
 "cells": [
  {
   "cell_type": "markdown",
   "metadata": {},
   "source": [
    "# Sampling Techniques"
   ]
  },
  {
   "cell_type": "markdown",
   "metadata": {},
   "source": [
    "**There are differnt types of sampling Techniques:**\n",
    "    1. Probability Sampling Techniques\n",
    "    2. Non Probability Sampling Techniques"
   ]
  },
  {
   "cell_type": "markdown",
   "metadata": {},
   "source": [
    "**Sampling is a method that allows us to get information about the population based on the statistics from a subset of the population (sample), without having to investigate every individual.**"
   ]
  },
  {
   "cell_type": "markdown",
   "metadata": {},
   "source": [
    "![sampling](https://cdn.analyticsvidhya.com/wp-content/uploads/2019/05/Screenshot-21.png)"
   ]
  },
  {
   "cell_type": "markdown",
   "metadata": {},
   "source": [
    "# Why do we need Sampling?\n",
    "\n",
    "1. Selecting a sample requires less time than selecting every item in a population\n",
    "2. Sample selection is a cost-efficient method\n",
    "3. Analysis of the sample is less cumbersome and more practical than an analysis of the entire population"
   ]
  },
  {
   "cell_type": "markdown",
   "metadata": {},
   "source": [
    "# Steps involved in Sampling"
   ]
  },
  {
   "cell_type": "markdown",
   "metadata": {},
   "source": [
    "![steps](https://cdn.analyticsvidhya.com/wp-content/uploads/2019/05/Screenshot-22.png)"
   ]
  },
  {
   "cell_type": "markdown",
   "metadata": {},
   "source": [
    "**Examples:**\n",
    "Let’s take an interesting case study and apply these steps to perform sampling. We recently conducted General Elections in India a few months back. You must have seen the public opinion polls every news channel was running at the time."
   ]
  },
  {
   "cell_type": "markdown",
   "metadata": {},
   "source": [
    "![](https://cdn.analyticsvidhya.com/wp-content/uploads/2019/05/Screenshot-27.png)"
   ]
  },
  {
   "cell_type": "markdown",
   "metadata": {},
   "source": [
    "Were these results concluded by considering the views of all 900 million voters of the country or a fraction of these voters? Let us see how it was done."
   ]
  },
  {
   "cell_type": "markdown",
   "metadata": {},
   "source": [
    "**step1:** \n",
    "    1. clearly defined the target populations\n",
    "    2. carry out opinion polls, polling agencies consider only the people who are above 18 years of age and are eligible to   vote in the population\n",
    "\n",
    "**step2:**\n",
    "    **Sampling Frame**\n",
    "    1. It is a list of items or people forming a population from which the sample is taken.\n",
    "    2. sampling frame would be the list of all the people whose names appear on the voter list of a constituency\n",
    "**Step3:**\n",
    "    1. Probability sampling methods are used because every vote has equal value and any person can be included in the sample irrespective of his caste, community, or religion\n",
    "    \n",
    "**Step 4:**\n",
    "    **Sample Size**\n",
    "    1. It is the number of individuals or items to be taken in a sample that would be enough to make inferences about the population with the desired level of accuracy and precision\n",
    "    \n",
    "**Step 5:**\n",
    "    1. Once the target population, sampling frame, sampling technique, and sample size have been established, the next step is to collect data from the sample"
   ]
  },
  {
   "cell_type": "markdown",
   "metadata": {},
   "source": [
    "# Different Types of Sampling Techniques"
   ]
  },
  {
   "cell_type": "markdown",
   "metadata": {},
   "source": [
    "![](https://cdn.analyticsvidhya.com/wp-content/uploads/2019/05/Screenshot-20.png)"
   ]
  },
  {
   "cell_type": "code",
   "execution_count": null,
   "metadata": {},
   "outputs": [],
   "source": []
  }
 ],
 "metadata": {
  "kernelspec": {
   "display_name": "Python 3",
   "language": "python",
   "name": "python3"
  },
  "language_info": {
   "codemirror_mode": {
    "name": "ipython",
    "version": 3
   },
   "file_extension": ".py",
   "mimetype": "text/x-python",
   "name": "python",
   "nbconvert_exporter": "python",
   "pygments_lexer": "ipython3",
   "version": "3.8.3"
  }
 },
 "nbformat": 4,
 "nbformat_minor": 4
}
