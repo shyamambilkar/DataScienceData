{
 "cells": [
  {
   "cell_type": "markdown",
   "metadata": {},
   "source": [
    "# Statistics\n",
    "### How to Learn Statistics for Data Science As A Self Starter"
   ]
  },
  {
   "cell_type": "markdown",
   "metadata": {},
   "source": [
    "#### 1. Basics Stats\n",
    "--------------------------------\n",
    "**Probability**\n",
    "1. Introduction to Basic Terms\n",
    "2. Variables\n",
    "3. Random Variables\n",
    "4. Population,Sample,Population Mean,\n",
    "   Sample Mean\n",
    "5. Population Distribution, Sample Distribution \n",
    "   and Sampling Distribution\n",
    "6. Mean, Median ,Mode\n",
    "7. Range\n",
    "8. Measure Of Dispersion\n",
    "9. Variance\n",
    "10. Standard Deviation\n",
    "11. Gaussian/Normal Distribution"
   ]
  },
  {
   "cell_type": "markdown",
   "metadata": {},
   "source": [
    "#### 2. Intermediate Stats\n",
    "--------------------------------------\n",
    "\n",
    "12. Standard Normal Distribution\n",
    "13. Z score\n",
    "14. Probability Density Function\n",
    "15. Cumulative distribution function\n",
    "16. Hypothesis Testing\n",
    "17. Many different plotting graphs\n",
    "18. Kernel Density Estimation\n",
    "19. Central Limit Theorem\n",
    "20. Skewness of Data:\n",
    "    1. Covariance \n",
    "    2. Pearson Correlation Coefficient\n",
    "    3. Spearman Rank Correlation Coefficient\n",
    "    4. Importance of Correlation\n",
    "    5. Hypothesis Testing\n",
    "    6. Null Hypothesis \n",
    "    7. Alternative Hypothesis\n",
    "    8. Understanding Hypothesis testing\n",
    "    9. (T-test,Chi square test, p values)"
   ]
  },
  {
   "cell_type": "markdown",
   "metadata": {},
   "source": [
    "#### Advanced Stats\n",
    "-------------------------------------\n",
    "21. Q-Q plot\n",
    "22. Chebyshev’s inequality\n",
    "23. Discrete And Continuous Distribution\n",
    "24. Bernoulli And Binomial Distribution\n",
    "25. Log Normal Distribution\n",
    "26. Power Law Distribution\n",
    "27. Box Cox Tranform\n",
    "28. Poisson Disstribution\n",
    "29. Application Of Non Gaussian Distribution"
   ]
  },
  {
   "cell_type": "code",
   "execution_count": null,
   "metadata": {},
   "outputs": [],
   "source": []
  }
 ],
 "metadata": {
  "kernelspec": {
   "display_name": "Python 3",
   "language": "python",
   "name": "python3"
  },
  "language_info": {
   "codemirror_mode": {
    "name": "ipython",
    "version": 3
   },
   "file_extension": ".py",
   "mimetype": "text/x-python",
   "name": "python",
   "nbconvert_exporter": "python",
   "pygments_lexer": "ipython3",
   "version": "3.8.3"
  }
 },
 "nbformat": 4,
 "nbformat_minor": 4
}
